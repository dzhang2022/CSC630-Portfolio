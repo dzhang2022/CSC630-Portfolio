{
 "cells": [
  {
   "cell_type": "code",
   "execution_count": 5,
   "id": "94802916",
   "metadata": {},
   "outputs": [
    {
     "data": {
      "text/html": [
       "\n",
       "<div id=\"altair-viz-0c8237dc78fa4893a690b6a60445e033\"></div>\n",
       "<script type=\"text/javascript\">\n",
       "  var VEGA_DEBUG = (typeof VEGA_DEBUG == \"undefined\") ? {} : VEGA_DEBUG;\n",
       "  (function(spec, embedOpt){\n",
       "    let outputDiv = document.currentScript.previousElementSibling;\n",
       "    if (outputDiv.id !== \"altair-viz-0c8237dc78fa4893a690b6a60445e033\") {\n",
       "      outputDiv = document.getElementById(\"altair-viz-0c8237dc78fa4893a690b6a60445e033\");\n",
       "    }\n",
       "    const paths = {\n",
       "      \"vega\": \"https://cdn.jsdelivr.net/npm//vega@5?noext\",\n",
       "      \"vega-lib\": \"https://cdn.jsdelivr.net/npm//vega-lib?noext\",\n",
       "      \"vega-lite\": \"https://cdn.jsdelivr.net/npm//vega-lite@4.17.0?noext\",\n",
       "      \"vega-embed\": \"https://cdn.jsdelivr.net/npm//vega-embed@6?noext\",\n",
       "    };\n",
       "\n",
       "    function maybeLoadScript(lib, version) {\n",
       "      var key = `${lib.replace(\"-\", \"\")}_version`;\n",
       "      return (VEGA_DEBUG[key] == version) ?\n",
       "        Promise.resolve(paths[lib]) :\n",
       "        new Promise(function(resolve, reject) {\n",
       "          var s = document.createElement('script');\n",
       "          document.getElementsByTagName(\"head\")[0].appendChild(s);\n",
       "          s.async = true;\n",
       "          s.onload = () => {\n",
       "            VEGA_DEBUG[key] = version;\n",
       "            return resolve(paths[lib]);\n",
       "          };\n",
       "          s.onerror = () => reject(`Error loading script: ${paths[lib]}`);\n",
       "          s.src = paths[lib];\n",
       "        });\n",
       "    }\n",
       "\n",
       "    function showError(err) {\n",
       "      outputDiv.innerHTML = `<div class=\"error\" style=\"color:red;\">${err}</div>`;\n",
       "      throw err;\n",
       "    }\n",
       "\n",
       "    function displayChart(vegaEmbed) {\n",
       "      vegaEmbed(outputDiv, spec, embedOpt)\n",
       "        .catch(err => showError(`Javascript Error: ${err.message}<br>This usually means there's a typo in your chart specification. See the javascript console for the full traceback.`));\n",
       "    }\n",
       "\n",
       "    if(typeof define === \"function\" && define.amd) {\n",
       "      requirejs.config({paths});\n",
       "      require([\"vega-embed\"], displayChart, err => showError(`Error loading script: ${err.message}`));\n",
       "    } else {\n",
       "      maybeLoadScript(\"vega\", \"5\")\n",
       "        .then(() => maybeLoadScript(\"vega-lite\", \"4.17.0\"))\n",
       "        .then(() => maybeLoadScript(\"vega-embed\", \"6\"))\n",
       "        .catch(showError)\n",
       "        .then(() => displayChart(vegaEmbed));\n",
       "    }\n",
       "  })({\"config\": {\"view\": {\"continuousWidth\": 400, \"continuousHeight\": 300}}, \"layer\": [{\"mark\": {\"type\": \"arc\", \"innerRadius\": 20, \"stroke\": \"#fff\"}, \"encoding\": {\"color\": {\"field\": \"twitter handle\", \"type\": \"nominal\"}, \"radius\": {\"field\": \"Followers\", \"scale\": {\"rangeMin\": 20, \"type\": \"sqrt\", \"zero\": true}, \"type\": \"quantitative\"}, \"theta\": {\"field\": \"Followers\", \"stack\": true, \"type\": \"quantitative\"}}, \"title\": \"The Top 10 Most Followed Twitter Accounts\"}, {\"mark\": {\"type\": \"text\", \"radiusOffset\": 10}, \"encoding\": {\"color\": {\"field\": \"twitter handle\", \"type\": \"nominal\"}, \"radius\": {\"field\": \"Followers\", \"scale\": {\"rangeMin\": 20, \"type\": \"sqrt\", \"zero\": true}, \"type\": \"quantitative\"}, \"text\": {\"field\": \"Followers\", \"type\": \"quantitative\"}, \"theta\": {\"field\": \"Followers\", \"stack\": true, \"type\": \"quantitative\"}}, \"title\": \"The Top 10 Most Followed Twitter Accounts\"}], \"data\": {\"name\": \"data-944a6e6893656eafe36288f6dd6e1710\"}, \"$schema\": \"https://vega.github.io/schema/vega-lite/v4.17.0.json\", \"datasets\": {\"data-944a6e6893656eafe36288f6dd6e1710\": [{\"Rank\": 1, \"Name\": \"Barack Obama\", \"twitter handle\": \"@BarackObama\", \"Followers\": 110890048, \"Following\": \"6,10,113\", \"Tweets\": \"15,704\", \"Nationality/headquarters\": \"U.S.A\", \"Activity\": \"Politician\", \"Industry\": \"Politics\"}, {\"Rank\": 2, \"Name\": \"KATY PERRY\", \"twitter handle\": \"@katyperry\", \"Followers\": 108315414, \"Following\": \"222\", \"Tweets\": \"10,202\", \"Nationality/headquarters\": \"U.S.A\", \"Activity\": \"Musician\", \"Industry\": \"Music\"}, {\"Rank\": 3, \"Name\": \"Justin Bieber\", \"twitter handle\": \"@justinbieber\", \"Followers\": 107410873, \"Following\": \"2,96,418\", \"Tweets\": \"30,462\", \"Nationality/headquarters\": \"Canada\", \"Activity\": \"Musician\", \"Industry\": \"Music\"}, {\"Rank\": 4, \"Name\": \"Rihanna\", \"twitter handle\": \"@rihanna\", \"Followers\": 94990708, \"Following\": \"1,068\", \"Tweets\": \"10,449\", \"Nationality/headquarters\": \"Barbados\", \"Activity\": \"Musician and businesswoman\", \"Industry\": \"Music\"}, {\"Rank\": 5, \"Name\": \"Taylor Swift\", \"twitter handle\": \"@taylorswift13\", \"Followers\": 85520236, \"Following\": \"0\", \"Tweets\": \"396\", \"Nationality/headquarters\": \"U.S.A\", \"Activity\": \"Musician\", \"Industry\": \"Music\"}, {\"Rank\": 6, \"Name\": \"Cristiano Ronaldo\", \"twitter handle\": \"@Cristiano\", \"Followers\": 81657805, \"Following\": \"51\", \"Tweets\": \"3,490\", \"Nationality/headquarters\": \"Portugal\", \"Activity\": \"Footballer\", \"Industry\": \"Sports\"}, {\"Rank\": 7, \"Name\": \"Lady Gaga\", \"twitter handle\": \"@ladygaga\", \"Followers\": 80566835, \"Following\": \"1,23,911\", \"Tweets\": \"9,051\", \"Nationality/headquarters\": \"U.S.A\", \"Activity\": \"Musician and actress\", \"Industry\": \"Music\"}, {\"Rank\": 8, \"Name\": \"Ellen DeGeneres\", \"twitter handle\": \"@TheEllenShow\", \"Followers\": 79184882, \"Following\": \"27,730\", \"Tweets\": \"20,870\", \"Nationality/headquarters\": \"U.S.A\", \"Activity\": \"Comedian\", \"Industry\": \"Films/Entertainment\"}, {\"Rank\": 9, \"Name\": \"YouTube\", \"twitter handle\": \"@YouTube\", \"Followers\": 72137278, \"Following\": \"1,051\", \"Tweets\": \"24,343\", \"Nationality/headquarters\": \"U.S.A\", \"Activity\": \"Online Video Platform\", \"Industry\": \"Technology \"}, {\"Rank\": 10, \"Name\": \"Ariana Grande\", \"twitter handle\": \"@ArianaGrande\", \"Followers\": 68242627, \"Following\": \"60,859\", \"Tweets\": \"45,582\", \"Nationality/headquarters\": \"U.S.A\", \"Activity\": \"Musician and actress\", \"Industry\": \"Music\"}]}}, {\"mode\": \"vega-lite\"});\n",
       "</script>"
      ],
      "text/plain": [
       "alt.LayerChart(...)"
      ]
     },
     "execution_count": 5,
     "metadata": {},
     "output_type": "execute_result"
    }
   ],
   "source": [
    "import pandas as pd\n",
    "import altair as alt\n",
    "\n",
    "source = pd.DataFrame({\"values\": [12, 23, 47, 6, 52, 19]})\n",
    "\n",
    "df = pd.read_csv('30 Day Challenge Data/Most_followed_Twitter_acounts_2019.csv')\n",
    "\n",
    "df.head()\n",
    "\n",
    "row = df.shape[0]\n",
    "\n",
    "for i in range(row):\n",
    "    df.at[i,'Followers'] = df['Followers'][i].replace(',','')\n",
    "    \n",
    "df['Followers'] = df['Followers'].astype(int)\n",
    "\n",
    "base = alt.Chart(df.head(10), title='The Top 10 Most Followed Twitter Accounts').encode(\n",
    "    theta=alt.Theta(\"Followers:Q\", stack=True),\n",
    "    radius=alt.Radius(\"Followers\", scale=alt.Scale(type=\"sqrt\", zero=True, rangeMin=20)),\n",
    "    color=\"twitter handle:N\",\n",
    ")\n",
    "\n",
    "c1 = base.mark_arc(innerRadius=20, stroke=\"#fff\")\n",
    "\n",
    "c2 = base.mark_text(radiusOffset=10).encode(text=\"Followers:Q\")\n",
    "\n",
    "c1 + c2"
   ]
  }
 ],
 "metadata": {
  "kernelspec": {
   "display_name": "Python 3",
   "language": "python",
   "name": "python3"
  },
  "language_info": {
   "codemirror_mode": {
    "name": "ipython",
    "version": 3
   },
   "file_extension": ".py",
   "mimetype": "text/x-python",
   "name": "python",
   "nbconvert_exporter": "python",
   "pygments_lexer": "ipython3",
   "version": "3.8.8"
  }
 },
 "nbformat": 4,
 "nbformat_minor": 5
}
