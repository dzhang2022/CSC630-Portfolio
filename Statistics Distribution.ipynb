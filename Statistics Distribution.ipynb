{
 "cells": [
  {
   "cell_type": "code",
   "execution_count": 16,
   "id": "785af378",
   "metadata": {},
   "outputs": [
    {
     "data": {
      "text/html": [
       "<div>\n",
       "<style scoped>\n",
       "    .dataframe tbody tr th:only-of-type {\n",
       "        vertical-align: middle;\n",
       "    }\n",
       "\n",
       "    .dataframe tbody tr th {\n",
       "        vertical-align: top;\n",
       "    }\n",
       "\n",
       "    .dataframe thead th {\n",
       "        text-align: right;\n",
       "    }\n",
       "</style>\n",
       "<table border=\"1\" class=\"dataframe\">\n",
       "  <thead>\n",
       "    <tr style=\"text-align: right;\">\n",
       "      <th></th>\n",
       "      <th>Artist</th>\n",
       "      <th>Number of Songs</th>\n",
       "    </tr>\n",
       "  </thead>\n",
       "  <tbody>\n",
       "    <tr>\n",
       "      <th>0</th>\n",
       "      <td>SEVENTEEN</td>\n",
       "      <td>18</td>\n",
       "    </tr>\n",
       "    <tr>\n",
       "      <th>1</th>\n",
       "      <td>keshi</td>\n",
       "      <td>6</td>\n",
       "    </tr>\n",
       "    <tr>\n",
       "      <th>2</th>\n",
       "      <td>Ben Platt</td>\n",
       "      <td>1</td>\n",
       "    </tr>\n",
       "    <tr>\n",
       "      <th>3</th>\n",
       "      <td>SuperM</td>\n",
       "      <td>2</td>\n",
       "    </tr>\n",
       "    <tr>\n",
       "      <th>4</th>\n",
       "      <td>Chipmusic Heroes</td>\n",
       "      <td>1</td>\n",
       "    </tr>\n",
       "  </tbody>\n",
       "</table>\n",
       "</div>"
      ],
      "text/plain": [
       "             Artist  Number of Songs\n",
       "0         SEVENTEEN               18\n",
       "1             keshi                6\n",
       "2         Ben Platt                1\n",
       "3            SuperM                2\n",
       "4  Chipmusic Heroes                1"
      ]
     },
     "execution_count": 16,
     "metadata": {},
     "output_type": "execute_result"
    }
   ],
   "source": [
    "import altair as alt\n",
    "import pandas as pd\n",
    "\n",
    "df = pd.read_csv('30 Day Challenge Data/my_spotify.csv')\n",
    "df.head()"
   ]
  },
  {
   "cell_type": "code",
   "execution_count": 25,
   "id": "04b579d8",
   "metadata": {},
   "outputs": [
    {
     "data": {
      "text/html": [
       "\n",
       "<div id=\"altair-viz-907e0ac56d894bbbb6f7b6723968da35\"></div>\n",
       "<script type=\"text/javascript\">\n",
       "  var VEGA_DEBUG = (typeof VEGA_DEBUG == \"undefined\") ? {} : VEGA_DEBUG;\n",
       "  (function(spec, embedOpt){\n",
       "    let outputDiv = document.currentScript.previousElementSibling;\n",
       "    if (outputDiv.id !== \"altair-viz-907e0ac56d894bbbb6f7b6723968da35\") {\n",
       "      outputDiv = document.getElementById(\"altair-viz-907e0ac56d894bbbb6f7b6723968da35\");\n",
       "    }\n",
       "    const paths = {\n",
       "      \"vega\": \"https://cdn.jsdelivr.net/npm//vega@5?noext\",\n",
       "      \"vega-lib\": \"https://cdn.jsdelivr.net/npm//vega-lib?noext\",\n",
       "      \"vega-lite\": \"https://cdn.jsdelivr.net/npm//vega-lite@4.17.0?noext\",\n",
       "      \"vega-embed\": \"https://cdn.jsdelivr.net/npm//vega-embed@6?noext\",\n",
       "    };\n",
       "\n",
       "    function maybeLoadScript(lib, version) {\n",
       "      var key = `${lib.replace(\"-\", \"\")}_version`;\n",
       "      return (VEGA_DEBUG[key] == version) ?\n",
       "        Promise.resolve(paths[lib]) :\n",
       "        new Promise(function(resolve, reject) {\n",
       "          var s = document.createElement('script');\n",
       "          document.getElementsByTagName(\"head\")[0].appendChild(s);\n",
       "          s.async = true;\n",
       "          s.onload = () => {\n",
       "            VEGA_DEBUG[key] = version;\n",
       "            return resolve(paths[lib]);\n",
       "          };\n",
       "          s.onerror = () => reject(`Error loading script: ${paths[lib]}`);\n",
       "          s.src = paths[lib];\n",
       "        });\n",
       "    }\n",
       "\n",
       "    function showError(err) {\n",
       "      outputDiv.innerHTML = `<div class=\"error\" style=\"color:red;\">${err}</div>`;\n",
       "      throw err;\n",
       "    }\n",
       "\n",
       "    function displayChart(vegaEmbed) {\n",
       "      vegaEmbed(outputDiv, spec, embedOpt)\n",
       "        .catch(err => showError(`Javascript Error: ${err.message}<br>This usually means there's a typo in your chart specification. See the javascript console for the full traceback.`));\n",
       "    }\n",
       "\n",
       "    if(typeof define === \"function\" && define.amd) {\n",
       "      requirejs.config({paths});\n",
       "      require([\"vega-embed\"], displayChart, err => showError(`Error loading script: ${err.message}`));\n",
       "    } else {\n",
       "      maybeLoadScript(\"vega\", \"5\")\n",
       "        .then(() => maybeLoadScript(\"vega-lite\", \"4.17.0\"))\n",
       "        .then(() => maybeLoadScript(\"vega-embed\", \"6\"))\n",
       "        .catch(showError)\n",
       "        .then(() => displayChart(vegaEmbed));\n",
       "    }\n",
       "  })({\"config\": {\"view\": {\"continuousWidth\": 400, \"continuousHeight\": 300}}, \"data\": {\"name\": \"data-6129f26ec90e432704550ee49ef05aeb\"}, \"mark\": \"bar\", \"encoding\": {\"x\": {\"field\": \"Artist\", \"type\": \"nominal\"}, \"y\": {\"field\": \"Number of Songs\", \"type\": \"quantitative\"}}, \"title\": \"My Most Played Artists on Spotify by Number of Songs in My Top 50 All-time Listened\", \"$schema\": \"https://vega.github.io/schema/vega-lite/v4.17.0.json\", \"datasets\": {\"data-6129f26ec90e432704550ee49ef05aeb\": [{\"Artist\": \"SEVENTEEN\", \"Number of Songs\": 18}, {\"Artist\": \"keshi\", \"Number of Songs\": 6}, {\"Artist\": \"Ben Platt\", \"Number of Songs\": 1}, {\"Artist\": \"SuperM\", \"Number of Songs\": 2}, {\"Artist\": \"Chipmusic Heroes\", \"Number of Songs\": 1}, {\"Artist\": \"Enhypen\", \"Number of Songs\": 1}, {\"Artist\": \"Jeremy Zucker\", \"Number of Songs\": 1}, {\"Artist\": \"C\\ufffd Shu Nie\", \"Number of Songs\": 3}, {\"Artist\": \"Mark Tuan\", \"Number of Songs\": 1}, {\"Artist\": \"balloon\", \"Number of Songs\": 2}, {\"Artist\": \"BIBI\", \"Number of Songs\": 1}, {\"Artist\": \"WENDY\", \"Number of Songs\": 1}, {\"Artist\": \"Yorushika\", \"Number of Songs\": 1}, {\"Artist\": \"EDEN\", \"Number of Songs\": 1}, {\"Artist\": \"Pierce Fulton\", \"Number of Songs\": 1}, {\"Artist\": \"Madeon\", \"Number of Songs\": 1}, {\"Artist\": \"Passion Pit\", \"Number of Songs\": 1}, {\"Artist\": \"Hvnnibvl\", \"Number of Songs\": 1}, {\"Artist\": \"Ryokuoushoku Shakai\", \"Number of Songs\": 1}, {\"Artist\": \"88rising\", \"Number of Songs\": 2}, {\"Artist\": \"NIKI\", \"Number of Songs\": 1}, {\"Artist\": \"Joji\", \"Number of Songs\": 2}, {\"Artist\": \"Porter Robinson\", \"Number of Songs\": 1}, {\"Artist\": \"DAY6\", \"Number of Songs\": 2}, {\"Artist\": \"CHUNG HA\", \"Number of Songs\": 1}, {\"Artist\": \"NCT DREAM\", \"Number of Songs\": 1}]}}, {\"mode\": \"vega-lite\"});\n",
       "</script>"
      ],
      "text/plain": [
       "alt.Chart(...)"
      ]
     },
     "execution_count": 25,
     "metadata": {},
     "output_type": "execute_result"
    }
   ],
   "source": [
    "alt.Chart(df, title='My Most Played Artists on Spotify by Number of Songs in My Top 50 All-time Listened').mark_bar().encode(\n",
    "    x='Artist',\n",
    "    y='Number of Songs'\n",
    ")"
   ]
  }
 ],
 "metadata": {
  "kernelspec": {
   "display_name": "Python 3",
   "language": "python",
   "name": "python3"
  },
  "language_info": {
   "codemirror_mode": {
    "name": "ipython",
    "version": 3
   },
   "file_extension": ".py",
   "mimetype": "text/x-python",
   "name": "python",
   "nbconvert_exporter": "python",
   "pygments_lexer": "ipython3",
   "version": "3.8.8"
  }
 },
 "nbformat": 4,
 "nbformat_minor": 5
}
